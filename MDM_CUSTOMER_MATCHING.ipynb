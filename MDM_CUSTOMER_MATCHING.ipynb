{
 "metadata": {
  "kernelspec": {
   "display_name": "Streamlit Notebook",
   "name": "streamlit"
  },
  "lastEditStatus": {
   "notebookId": "dbu5nnbzqcmtlrzb3c7l",
   "authorId": "7839498078581",
   "authorName": "ANDY.MILLS@HMHCO.COM",
   "authorEmail": "Andy.Mills@hmhco.com",
   "sessionId": "12bf1b34-7851-4e42-bd24-39ef8fd80f26",
   "lastEditTime": 1754437461935
  }
 },
 "nbformat_minor": 5,
 "nbformat": 4,
 "cells": [
  {
   "cell_type": "code",
   "id": "3775908f-ca36-4846-8f38-5adca39217f2",
   "metadata": {
    "language": "python",
    "name": "cell1"
   },
   "source": "\n# Import python packages\nimport streamlit as st\n\nfrom snowflake.core import Root\n\n# We can also use Snowpark for our analyses!\nfrom snowflake.snowpark.context import get_active_session\n\nsession = get_active_session()\nroot = Root(session)\nsession.query_tag = {\"origin\":\"sf_sit-is\",\n                     \"name\":\"entity_resolution\",\n                     \"version\":{\"major\":1, \"minor\":0},\n                     \"attributes\":{\"is_quickstart\":1, \"source\":\"notebook\"}}\n\ndb = session.get_current_database().strip('\"')\nwh = session.get_current_warehouse().strip('\"')\nprefix = session.get_current_warehouse().strip('\"').split(\"_DS_WH\")[0]\n     \n\n# sql_command = f\"ALTER WAREHOUSE {wh} SET WAREHOUSE_SIZE = 'rge'\"\n# session.sql(sql_command).collect()\n     \n\nsession.sql(f\"USE ROLE ACCOUNTADMIN\").collect()\nsession.sql(f\"CREATE SCHEMA IF NOT EXISTS {db}.MATCH\").collect()\nsession.sql(f\"USE SCHEMA {db}.MATCH\").collect()\n",
   "execution_count": null,
   "outputs": []
  },
  {
   "cell_type": "code",
   "id": "f03e717b-8727-47c0-adfb-7a176d3e356a",
   "metadata": {
    "language": "sql",
    "name": "TRAINING_DATA"
   },
   "outputs": [],
   "source": "CREATE OR REPLACE TABLE MDM_TRAINING_SET_VALID AS\n\nselect\n    UUID_STRING() id,\n    1::boolean IS_VALID,\n    c.SOURCE_PKEY,\n    c.NAME,\n    c.SOURCE_SYSTEM,\n    ca.ADDRESS_LINE_1,\n    ca.ADDRESS_LINE_2,\n    ca.CITY,\n    ca.STATE,\n    ca.POSTAL_CODE,\n    ca.COUNTRY,\n    CONCAT(NAME, ' ',ADDRESS_LINE_1, ' ',ADDRESS_LINE_2, ' ',CITY, ' ',ca.STATE, ' ',POSTAL_CODE) CUSTOMER_FULL_DETAIL,\n    SNOWFLAKE.CORTEX.EMBED_TEXT_768('snowflake-arctic-embed-m', CUSTOMER_FULL_DETAIL) AS CUSTOMER_FULL_DETAIL_EMBEDDING\nfrom\n    hmh_prd_master_data.raw.customer c\n    inner join HMH_PRD_MASTER_DATA.CUSTOMER.CUSTOMER_ADDRESS ca on\n        c.BUSINESS_ID = ca.CUSTOMER_BUSINESS_ID\n        and c.source_system = ca.SOURCE_SYSTEM\n\n;",
   "execution_count": null
  },
  {
   "cell_type": "code",
   "id": "305a16c6-c7e6-4887-9bba-a29b4eda71ee",
   "metadata": {
    "language": "sql",
    "name": "cell6"
   },
   "outputs": [],
   "source": "CREATE OR REPLACE TABLE MDM_TRAINING_SET_INVALID AS\nselect \n    UUID_STRING() id,\n    0::boolean IS_VALID,\n    cx.SOURCE_PKEY,\n    cx.NAME,\n    cx.SOURCE_SYSTEM,\n    ca.ADDRESS_LINE_1,\n    ca.ADDRESS_LINE_2,\n    ca.CITY,\n    ca.STATE,\n    ca.POSTAL_CODE,\n    ca.COUNTRY,\n    CONCAT(NAME, ' ',ADDRESS_LINE_1, ' ',ADDRESS_LINE_2, ' ',CITY, ' ',ca.STATE, ' ',POSTAL_CODE) CUSTOMER_FULL_DETAIL,\n    SNOWFLAKE.CORTEX.EMBED_TEXT_768('snowflake-arctic-embed-m', CUSTOMER_FULL_DETAIL) AS CUSTOMER_FULL_DETAIL_EMBEDDING\n\nfrom\n    hmh_prd_master_data.raw.customer_xref cx\n    inner join HMH_PRD_MASTER_DATA.CUSTOMER.CUSTOMER_ADDRESS_XREF ca on\n        cx.SOURCE_PKEY = ca.CUSTOMER_BUSINESS_ID\n        and cx.source_system = ca.SOURCE_SYSTEM\nwhere cx.source_system != 'b360.default.system'\n  and cx.state = 'ACTIVE'\n  and business_id in (\n    select business_id from hmh_prd_master_data.raw.customer_xref where source_system != 'b360.default.system' and state = 'ACTIVE' group by business_id having count(*) = 1)",
   "execution_count": null
  },
  {
   "cell_type": "code",
   "id": "7860b0fe-cc55-486b-823e-3ffc7afb99e0",
   "metadata": {
    "language": "sql",
    "name": "cell7"
   },
   "outputs": [],
   "source": "--Select an address from the invalid set and see if it matches one in the valid.\nselect \nVECTOR_COSINE_SIMILARITY(i.CUSTOMER_FULL_DETAIL_EMBEDDING, v.CUSTOMER_FULL_DETAIL_EMBEDDING),\ni.id,\nv.customer_full_Detail VALID,\ni.customer_full_detail INVALID\nfrom MDM_TRAINING_SET_INVALID i,\nMDM_TRAINING_SET_VALID v\nwhere 1=1\nand i.id = 'ba1d6755-02ad-47f6-86a1-570175e8240f' \n-- and i.ID in (\n-- 'ffde6696-6ee4-4150-8a7e-6c938de88598',\n-- '10b0bbe8-b477-44fb-ba36-0714d38400b7',\n-- '65617048-8391-4961-b758-1896da73ddfa',\n-- '1f3d5f35-3786-4fe6-a170-0e05bbb6caae',\n-- '7ba569e8-8469-4d67-8db4-f158b78bb595',\n-- '13e179ed-8e7a-46fe-9318-5bfbc199f5cd'\n-- )\norder by 1 desc\n;",
   "execution_count": null
  }
 ]
}